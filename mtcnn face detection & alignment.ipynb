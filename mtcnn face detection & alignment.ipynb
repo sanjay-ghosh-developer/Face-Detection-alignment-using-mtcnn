{
 "cells": [
  {
   "cell_type": "code",
   "execution_count": 5,
   "metadata": {},
   "outputs": [],
   "source": [
    "#Object Tracking\n",
    "import cv2\n",
    "import numpy as np\n",
    "from mtcnn import MTCNN\n",
    "import time\n",
    "\n",
    "detector = MTCNN()"
   ]
  },
  {
   "cell_type": "code",
   "execution_count": 10,
   "metadata": {},
   "outputs": [],
   "source": [
    "\n",
    "cap = cv2.VideoCapture(0)\n",
    "while True: \n",
    "    #Capture frame-by-frame\n",
    "    __, frame = cap.read()\n",
    "    \n",
    "    #Use MTCNN to detect faces\n",
    "    result = detector.detect_faces(frame)\n",
    "    if result != []:\n",
    "        for person in result:\n",
    "            bounding_box = person['box']\n",
    "            keypoints = person['keypoints']\n",
    "            confidance = str(round(person['confidence'] * 100, 2))+\"%\"\n",
    "            \n",
    "            box_x,box_y=bounding_box[0], bounding_box[1]#top corner of box\n",
    "            box_x1,box_y1=bounding_box[0]+bounding_box[2], bounding_box[1] + bounding_box[3]\n",
    "            cv2.rectangle(frame, (box_x,box_y), (box_x1,box_y1), (0,155,255), 2)\n",
    "    \n",
    "            cv2.circle(frame,(keypoints['left_eye']), 2, (0,155,255), 2)\n",
    "            cv2.circle(frame,(keypoints['right_eye']), 2, (0,155,255), 2)\n",
    "            cv2.circle(frame,(keypoints['nose']), 2, (0,155,255), 2)\n",
    "            cv2.circle(frame,(keypoints['mouth_left']), 2, (0,155,255), 2)\n",
    "            cv2.circle(frame,(keypoints['mouth_right']), 2, (0,155,255), 2)\n",
    "            cv2.putText(frame, confidance, (box_x1,box_y1), cv2.FONT_HERSHEY_COMPLEX, .5, (0,155,255), 1)\n",
    "\n",
    "    #display resulting frame\n",
    "    cv2.imshow('frame',frame)\n",
    "    if cv2.waitKey(1) &0xFF == ord('q'):\n",
    "        break\n",
    "\n",
    "#When everything's done, release capture\n",
    "cap.release()\n",
    "cv2.destroyAllWindows()"
   ]
  },
  {
   "cell_type": "code",
   "execution_count": 3,
   "metadata": {},
   "outputs": [],
   "source": [
    "def face_align(img,leye,reye,desiredFaceWidth,desiredFaceHeight):\n",
    "    #img_shape=(img.shape[:2])\n",
    "    desiredLeftEye=(0.35, 0.35)\n",
    "    #print(img_shape)\n",
    "    print(leye,reye)\n",
    "    dY = reye[1] - leye[1]\n",
    "    dX = reye[0] - leye[0]\n",
    "    angle = np.degrees(np.arctan2(dY, dX)) - 180\n",
    "    print(angle)\n",
    "    # compute the desired right eye x-coordinate based on the\n",
    "    # desired x-coordinate of the left eye\n",
    "    desiredRightEyeX = 1.0 - desiredLeftEye[0]\n",
    "    \n",
    "    # determine the scale of the new resulting image by taking\n",
    "    # the ratio of the distance between eyes in the *current*\n",
    "    # image to the ratio of distance between eyes in the\n",
    "    # *desired* image\n",
    "    \n",
    "    \n",
    "    dist = np.sqrt((dX ** 2) + (dY ** 2))\n",
    "    desiredDist = (desiredRightEyeX - desiredLeftEye[0])\n",
    "    desiredDist *= desiredFaceWidth\n",
    "    scale = desiredDist / dist\n",
    "    print(dist)\n",
    "    print(scale)\n",
    "    # compute center (x, y)-coordinates (i.e., the median point)\n",
    "    # between the two eyes in the input image\n",
    "    eyesCenter = ((leye[0] + reye[0]) // 2,\n",
    "                  (leye[1] + reye[1]) // 2)\n",
    "    cv2.circle(img,eyesCenter, 2, (0,155,255), 2)\n",
    "    cv2.line(img, leye, reye, (0,155,255), 2)\n",
    "    print(eyesCenter)\n",
    "    # grab the rotation matrix for rotating and scaling the face\n",
    "    M = cv2.getRotationMatrix2D(eyesCenter, angle, -scale)\n",
    "    #M = cv2.getRotationMatrix2D(eyesCenter, angle, .5)\n",
    "    # update the translation component of the matrix\n",
    "    tX = desiredFaceWidth * 0.5\n",
    "    tY = desiredFaceHeight * desiredLeftEye[1]\n",
    "    M[0, 2] += (tX - eyesCenter[0])\n",
    "    M[1, 2] += (tY - eyesCenter[1])\n",
    "    \n",
    "    # apply the affine transformation\n",
    "    (w, h) = (desiredFaceWidth,desiredFaceHeight)\n",
    "    output = cv2.warpAffine(img, M, (w, h),flags=cv2.INTER_CUBIC)\n",
    "    #return the aligned face\n",
    "    return output\n",
    "    #return img"
   ]
  },
  {
   "cell_type": "code",
   "execution_count": 9,
   "metadata": {},
   "outputs": [
    {
     "name": "stdout",
     "output_type": "stream",
     "text": [
      "(319, 112) (401, 146)\n",
      "-157.47943439710312\n",
      "88.76936408468859\n",
      "1.0138632953834992\n",
      "(360, 129)\n",
      "0.2648324966430664\n"
     ]
    }
   ],
   "source": [
    "frame=cv2.imread('tst2.jpg')\n",
    "start = time.time()\n",
    "result = detector.detect_faces(frame)\n",
    "if result != []:\n",
    "        for person in result:\n",
    "            bounding_box = person['box']\n",
    "            keypoints = person['keypoints']\n",
    "            confidance = str(round(person['confidence'] * 100, 2))+\"%\"\n",
    "            \n",
    "            box_x,box_y=bounding_box[0], bounding_box[1]#top corner of box\n",
    "            box_x1,box_y1=bounding_box[0]+bounding_box[2], bounding_box[1] + bounding_box[3]\n",
    "            #cv2.rectangle(frame, (box_x,box_y), (box_x1,box_y1), (0,155,255), 2)\n",
    "            \n",
    "            \n",
    "            #face_align(img,leye,reye,nose,desiredFaceWidth,desiredFaceHeight)\n",
    "            frame=face_align(frame,(keypoints['left_eye']),(keypoints['right_eye']),\n",
    "                             300,300)\n",
    "#             cv2.circle(frame,(keypoints['left_eye']), 2, (0,155,255), 2)\n",
    "#             cv2.circle(frame,(keypoints['right_eye']), 2, (0,155,255), 2)\n",
    "#             cv2.circle(frame,(keypoints['nose']), 2, (0,155,255), 2)\n",
    "#             cv2.circle(frame,(keypoints['mouth_left']), 2, (0,155,255), 2)\n",
    "#             cv2.circle(frame,(keypoints['mouth_right']), 2, (0,155,255), 2)\n",
    "            #cv2.putText(frame, confidance, (box_x1,box_y1), cv2.FONT_HERSHEY_COMPLEX, .5, (0,155,255), 1)\n",
    "            end = time.time()\n",
    "            print(end - start)\n",
    "#display resulting frame\n",
    "cv2.imshow('frame',frame)\n",
    "#if cv2.waitKey(1) &0xFF == ord('q'):\n",
    "cv2.waitKey(0)\n",
    "cv2.destroyAllWindows()"
   ]
  },
  {
   "cell_type": "code",
   "execution_count": null,
   "metadata": {},
   "outputs": [],
   "source": [
    "start = time.time()\n",
    "print(\"hello\")\n",
    "end = time.time()\n",
    "print(end - start)"
   ]
  }
 ],
 "metadata": {
  "kernelspec": {
   "display_name": "Python 3",
   "language": "python",
   "name": "python3"
  },
  "language_info": {
   "codemirror_mode": {
    "name": "ipython",
    "version": 3
   },
   "file_extension": ".py",
   "mimetype": "text/x-python",
   "name": "python",
   "nbconvert_exporter": "python",
   "pygments_lexer": "ipython3",
   "version": "3.7.5"
  }
 },
 "nbformat": 4,
 "nbformat_minor": 4
}
